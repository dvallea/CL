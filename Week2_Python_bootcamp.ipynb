{
 "cells": [
  {
   "cell_type": "markdown",
   "metadata": {},
   "source": [
    "# How to use Jupyter Notebooks"
   ]
  },
  {
   "cell_type": "markdown",
   "metadata": {},
   "source": [
    "Jupyter notebooks mix text (\"markdown\") with code boxes. You can write and run Python code in code boxes, and you can write and format text in markdown boxes.\n",
    "\n",
    "To execute Python code in a code box, click on a code box and hit \"Run\", for example on the box below. "
   ]
  },
  {
   "cell_type": "code",
   "execution_count": 1,
   "metadata": {},
   "outputs": [
    {
     "name": "stdout",
     "output_type": "stream",
     "text": [
      "Hit 'Run' to execute this Python code.\n"
     ]
    }
   ],
   "source": [
    "print(\"Hit 'Run' to execute this Python code.\")"
   ]
  },
  {
   "cell_type": "markdown",
   "metadata": {},
   "source": [
    "You can also use a keyboard shortcut to run the code in the box you are currently in. The command for that is\n",
    "\n",
    "Shift+Enter."
   ]
  },
  {
   "cell_type": "markdown",
   "metadata": {},
   "source": [
    "## Getting a new empty box\n",
    "\n",
    "You can always get additional boxes in a Jupyter Notebook. Hit ESC B to get a new box below the one you are currently in. (Or use ESC A to get a new box above.) Then hit \"Enter\" to get out of command mode.\n",
    "\n",
    "(More info: ESC gets you into command mode, and then B means \"make a new box below.\" Enter gets you out of command mode, and into the mode where you can type in the current box.)"
   ]
  },
  {
   "cell_type": "markdown",
   "metadata": {},
   "source": [
    "## Code versus Markdown\n",
    "\n",
    "You can see in the top menu whether the box you are currently in is \"Code\" or \"Markdown\". In that drop-down menu, you can switch the current box between Code and Markdown.\n",
    "\n",
    "Or you can hit ESC M to make the current box Markdown. (Then remember to hit Enter to get out of command mode). ESC Y makes the current box Code. "
   ]
  },
  {
   "cell_type": "markdown",
   "metadata": {},
   "source": [
    "## Prettier Markdown\n",
    "\n",
    "In Markdown mode, ```*surrounding text by a single star on either side*``` makes it *italic*. ```**Two stars**``` make it **boldface.**\n",
    "\n",
    "Putting triple back quotes around text makes it look like ```code```.\n",
    "\n",
    "When you put a single hash mark at the beginning of the line, the following text will be formatted as a big heading. With two hash marks, you get a slightly less big heading, and so on.\n",
    "\n"
   ]
  },
  {
   "cell_type": "markdown",
   "metadata": {},
   "source": [
    "## More Jupyter Notebook tricks\n",
    "\n",
    "... can be found here: https://www.dataquest.io/blog/jupyter-notebook-tips-tricks-shortcuts/"
   ]
  },
  {
   "cell_type": "markdown",
   "metadata": {},
   "source": [
    "# First steps in Python\n",
    "You can type expressions of Python into a Jupyter Notebook, in one of the boxes that say \"In [...]\", and have Python evaluate them. Here is an example:"
   ]
  },
  {
   "cell_type": "code",
   "execution_count": 2,
   "metadata": {},
   "outputs": [
    {
     "data": {
      "text/plain": [
       "4"
      ]
     },
     "execution_count": 2,
     "metadata": {},
     "output_type": "execute_result"
    }
   ],
   "source": [
    "2+2"
   ]
  },
  {
   "cell_type": "markdown",
   "metadata": {},
   "source": [
    "Here is an expression that is a string. Python knows it is a string because it is enclosed in double quotes, like \"this\". Single quotes, like 'this', also work."
   ]
  },
  {
   "cell_type": "code",
   "execution_count": 3,
   "metadata": {},
   "outputs": [
    {
     "data": {
      "text/plain": [
       "'Hello world'"
      ]
     },
     "execution_count": 3,
     "metadata": {},
     "output_type": "execute_result"
    }
   ],
   "source": [
    "\"Hello world\""
   ]
  },
  {
   "cell_type": "markdown",
   "metadata": {},
   "source": [
    "Python knows about basic arithmetic expressions. It also uses \"+\" not only to add numbers, but also to paste strings together:"
   ]
  },
  {
   "cell_type": "code",
   "execution_count": 4,
   "metadata": {},
   "outputs": [
    {
     "data": {
      "text/plain": [
       "'Hello world'"
      ]
     },
     "execution_count": 4,
     "metadata": {},
     "output_type": "execute_result"
    }
   ],
   "source": [
    "\"Hello\" + \" \" + \"world\""
   ]
  },
  {
   "cell_type": "markdown",
   "metadata": {},
   "source": [
    "If you want to evaluate all the boxes in this notebook in one go, you can hit the \"fast forward\" button above to re-run all the code boxes. A dialog will come up asking you whether you want to proceed. It is safe to do so at this point."
   ]
  },
  {
   "cell_type": "markdown",
   "metadata": {},
   "source": [
    "## Variables\n",
    "\n",
    "On your hard drive, you store data in files. Each file has a name by which you can retrieve the data. In programming languages, you also often need to store data, for example the result of some calculation that you intend to use in another calculation later. And again, you need to give names to the stored data, so you can retrieve it later. In a programming language, you make a *variable* in which you store data, and you give it a name by which you can retrieve the data. \n",
    "\n",
    "Try running the following box:"
   ]
  },
  {
   "cell_type": "code",
   "execution_count": 5,
   "metadata": {},
   "outputs": [
    {
     "data": {
      "text/plain": [
       "5"
      ]
     },
     "execution_count": 5,
     "metadata": {},
     "output_type": "execute_result"
    }
   ],
   "source": [
    "myvar = 2 + 3\n",
    "myvar"
   ]
  },
  {
   "cell_type": "markdown",
   "metadata": {},
   "source": [
    "The output you saw is the content of ```myvar```. Here it is again:"
   ]
  },
  {
   "cell_type": "code",
   "execution_count": 6,
   "metadata": {},
   "outputs": [
    {
     "data": {
      "text/plain": [
       "5"
      ]
     },
     "execution_count": 6,
     "metadata": {},
     "output_type": "execute_result"
    }
   ],
   "source": [
    "myvar"
   ]
  },
  {
   "cell_type": "markdown",
   "metadata": {},
   "source": [
    "You can change the contents of a variable by again using \"=\" for assignment:"
   ]
  },
  {
   "cell_type": "code",
   "execution_count": 7,
   "metadata": {},
   "outputs": [],
   "source": [
    "myvar = 7"
   ]
  },
  {
   "cell_type": "markdown",
   "metadata": {},
   "source": [
    "You can access the contents of a variable through its name:"
   ]
  },
  {
   "cell_type": "code",
   "execution_count": 8,
   "metadata": {},
   "outputs": [
    {
     "data": {
      "text/plain": [
       "21"
      ]
     },
     "execution_count": 8,
     "metadata": {},
     "output_type": "execute_result"
    }
   ],
   "source": [
    "another_number_var = myvar * 3\n",
    "another_number_var"
   ]
  },
  {
   "cell_type": "markdown",
   "metadata": {},
   "source": [
    "We store the value 5 (the value of the expression \"2+3\") in myvar by typing ```myvar = 2+3```. We can then retrieve the stored data by its name: If we type the name of the variable, Python supplies the stored value. We can use the variable as a stand-in for its value: After we have stored the number 7 in ```myvar```, ```myvar * 3``` has the same value as ```7 * 3```.\n",
    "\n",
    "When you update a file, you are storing a new value under its existing name. You can do the same with a variable. In the line ```myvar = 7``` we are storing a new value in the same variable that we had before, myvar.\n",
    "\n",
    "You choose the names for the variables you use. What can you choose the name of a variable to be?\n",
    "\n",
    "* Variable names can contain letters, numbers, underscore\n",
    "* They must not start with a number.\n",
    "* They must not be identical to one of the \"reserved words\" that Python has already defined.\n",
    "\n",
    "*Warning*: There are some names that are already defined in Python that you can still use as a variable name, for example \"sum\" (which is a function that calculates the sum of multiple values). But if you re-define that as a variable name, you can't use it in its original sense anymore. That is, if you define ```sum = 2+3```, then you cannot access the function that calculates the sum of multiple values anymore: you have basically overwritten the previous value of the variable \"sum\". This is a very popular bug. \n",
    "\n",
    "You can also change a variable like this:"
   ]
  },
  {
   "cell_type": "code",
   "execution_count": 9,
   "metadata": {},
   "outputs": [],
   "source": [
    "myvar = myvar + 2"
   ]
  },
  {
   "cell_type": "markdown",
   "metadata": {},
   "source": [
    "Remember ```=``` is not a statement of equality, that would be nonsensical: Take what is in ```myvar```, add two to it, and store the result in ```myvar```. So, ```myvar + 2``` is 9, which is now being stored in ```myvar```, as you can check:"
   ]
  },
  {
   "cell_type": "code",
   "execution_count": 10,
   "metadata": {},
   "outputs": [
    {
     "data": {
      "text/plain": [
       "9"
      ]
     },
     "execution_count": 10,
     "metadata": {},
     "output_type": "execute_result"
    }
   ],
   "source": [
    "myvar"
   ]
  },
  {
   "cell_type": "markdown",
   "metadata": {},
   "source": [
    "**Try it for yourself:** Make up a variable name of your choosing, and store in it the value of the expression ```2**4```. Inspect your variable to see what it contains. Then reduce its value by 1. Now make up a second variable, and set it to have the same value as the first one."
   ]
  },
  {
   "cell_type": "code",
   "execution_count": 11,
   "metadata": {},
   "outputs": [],
   "source": [
    "# You can type your code here."
   ]
  },
  {
   "cell_type": "markdown",
   "metadata": {},
   "source": [
    "## Data types: strings and numbers\n",
    "\n",
    "We have encountered data of (at least) three data types so far:\n",
    "\n",
    "* Integers\n",
    "* Floating point numbers\n",
    "* Strings\n",
    "\n",
    "Different data types come with different operations. Integers and floating point numbers can be added, subtracted, divided, ... Strings can be concatenated, you can count letters in them, and so on. You can subtract one number from another:"
   ]
  },
  {
   "cell_type": "code",
   "execution_count": 12,
   "metadata": {},
   "outputs": [
    {
     "data": {
      "text/plain": [
       "118"
      ]
     },
     "execution_count": 12,
     "metadata": {},
     "output_type": "execute_result"
    }
   ],
   "source": [
    "123 - 5"
   ]
  },
  {
   "cell_type": "markdown",
   "metadata": {},
   "source": [
    "But you cannot subtract strings. Remove the \"#\" at the beginning of the next line, then run, to get an error."
   ]
  },
  {
   "cell_type": "code",
   "execution_count": 13,
   "metadata": {},
   "outputs": [],
   "source": [
    "# \"hello\" - \"world\""
   ]
  },
  {
   "cell_type": "markdown",
   "metadata": {},
   "source": [
    "By the way: When something goes wrong, Python gives you an error message. Please read this message! It will help you figure out what went wrong. Here, it says that you cannot subtract a string from a string.\n",
    "\n",
    "Especially in the beginning, you will see a lot of error messages. But don't worry, you will see fewer of them very soon.\n",
    "\n",
    "Here is something that works for strings but not numbers: strings have a length, but numbers don't. "
   ]
  },
  {
   "cell_type": "code",
   "execution_count": 14,
   "metadata": {},
   "outputs": [
    {
     "data": {
      "text/plain": [
       "11"
      ]
     },
     "execution_count": 14,
     "metadata": {},
     "output_type": "execute_result"
    }
   ],
   "source": [
    "len(\"hello world\")"
   ]
  },
  {
   "cell_type": "markdown",
   "metadata": {},
   "source": [
    "Remove the \"#\" at the beginning of the following line to get an error message:"
   ]
  },
  {
   "cell_type": "code",
   "execution_count": 15,
   "metadata": {},
   "outputs": [],
   "source": [
    "# len(123)"
   ]
  },
  {
   "cell_type": "markdown",
   "metadata": {},
   "source": [
    "There are built-in functions in Python that convert data from one type to another. ```int()``` converts to an integer. You can apply it to a string, if it actually contains an integer. Remember: \"3\" is a string because of the quotes, while 3 is a number. You can also apply ```int()``` to a floating point number. ```float()``` converts to a floating point number, and ```str()``` converts to a string:"
   ]
  },
  {
   "cell_type": "code",
   "execution_count": 16,
   "metadata": {},
   "outputs": [
    {
     "data": {
      "text/plain": [
       "123"
      ]
     },
     "execution_count": 16,
     "metadata": {},
     "output_type": "execute_result"
    }
   ],
   "source": [
    "int(\"123\")"
   ]
  },
  {
   "cell_type": "code",
   "execution_count": 17,
   "metadata": {},
   "outputs": [
    {
     "data": {
      "text/plain": [
       "456"
      ]
     },
     "execution_count": 17,
     "metadata": {},
     "output_type": "execute_result"
    }
   ],
   "source": [
    "int(456.7)"
   ]
  },
  {
   "cell_type": "markdown",
   "metadata": {},
   "source": [
    "Remove the \"#\" at the beginning of the following line to get an error message.\n",
    "\n",
    "(Incidentally, # is for commenting in Python code: Python will ignore anything you type after # in any line.)"
   ]
  },
  {
   "cell_type": "code",
   "execution_count": 18,
   "metadata": {},
   "outputs": [],
   "source": [
    "# int(\"hello\")"
   ]
  },
  {
   "cell_type": "code",
   "execution_count": 19,
   "metadata": {},
   "outputs": [
    {
     "data": {
      "text/plain": [
       "12.0"
      ]
     },
     "execution_count": 19,
     "metadata": {},
     "output_type": "execute_result"
    }
   ],
   "source": [
    "float(12)"
   ]
  },
  {
   "cell_type": "code",
   "execution_count": 20,
   "metadata": {},
   "outputs": [
    {
     "data": {
      "text/plain": [
       "3.14"
      ]
     },
     "execution_count": 20,
     "metadata": {},
     "output_type": "execute_result"
    }
   ],
   "source": [
    "float(\"3.14\")"
   ]
  },
  {
   "cell_type": "code",
   "execution_count": 21,
   "metadata": {},
   "outputs": [
    {
     "data": {
      "text/plain": [
       "'3.14'"
      ]
     },
     "execution_count": 21,
     "metadata": {},
     "output_type": "execute_result"
    }
   ],
   "source": [
    "str(3.14)"
   ]
  },
  {
   "cell_type": "markdown",
   "metadata": {},
   "source": [
    "You can also ask Python what the type of a piece of data is., using the function ```type()```. The type of a variable is the type of its contents."
   ]
  },
  {
   "cell_type": "code",
   "execution_count": 22,
   "metadata": {},
   "outputs": [
    {
     "data": {
      "text/plain": [
       "int"
      ]
     },
     "execution_count": 22,
     "metadata": {},
     "output_type": "execute_result"
    }
   ],
   "source": [
    "type(1)"
   ]
  },
  {
   "cell_type": "code",
   "execution_count": 23,
   "metadata": {},
   "outputs": [
    {
     "data": {
      "text/plain": [
       "float"
      ]
     },
     "execution_count": 23,
     "metadata": {},
     "output_type": "execute_result"
    }
   ],
   "source": [
    "type(1.1)"
   ]
  },
  {
   "cell_type": "code",
   "execution_count": 24,
   "metadata": {},
   "outputs": [
    {
     "data": {
      "text/plain": [
       "str"
      ]
     },
     "execution_count": 24,
     "metadata": {},
     "output_type": "execute_result"
    }
   ],
   "source": [
    "type(\"1\")"
   ]
  },
  {
   "cell_type": "code",
   "execution_count": 25,
   "metadata": {},
   "outputs": [
    {
     "data": {
      "text/plain": [
       "str"
      ]
     },
     "execution_count": 25,
     "metadata": {},
     "output_type": "execute_result"
    }
   ],
   "source": [
    "type(\"hello world\")"
   ]
  },
  {
   "cell_type": "code",
   "execution_count": 26,
   "metadata": {},
   "outputs": [
    {
     "data": {
      "text/plain": [
       "int"
      ]
     },
     "execution_count": 26,
     "metadata": {},
     "output_type": "execute_result"
    }
   ],
   "source": [
    "type(myvar)"
   ]
  },
  {
   "cell_type": "markdown",
   "metadata": {},
   "source": [
    "## Strings\n",
    "\n",
    "Strings in Python are arbitrary sequences of characters, enclosed in either \"...\" or '...'. (Most of the time, it doesn't matter if you use single or double quotes. Just make sure you use the same type of quotes at the beginning and the end.)\n",
    "\n",
    "To make a string that runs over more than one line, use ```\"\"\"...\"\"\"``` That is, three double quotes, then your string, then three double quotes. (You can also use three single quotes on either side. But you have to use the same kinds of quotes.) For example, here is a string that holds the first two paragraphs of the Wikipedia entry on Python.\n"
   ]
  },
  {
   "cell_type": "code",
   "execution_count": 27,
   "metadata": {},
   "outputs": [
    {
     "data": {
      "text/plain": [
       "902"
      ]
     },
     "execution_count": 27,
     "metadata": {},
     "output_type": "execute_result"
    }
   ],
   "source": [
    "wikipedia_on_python = \"\"\"Python is a general-purpose, high-level programming language\n",
    "whose design philosophy emphasizes code readability.Python claims to combine \"remarkable power with very \n",
    "clear syntax\", and its standard library is large and comprehensive. \n",
    "Its use of indentation for block delimiters is unique among popular programming languages.\n",
    "Python supports multiple programming paradigms, primarily but not limited to object-oriented, \n",
    "imperative and, to a lesser extent, functional programming styles. \n",
    "It features a fully dynamic type system and automatic memory management, similar to that of \n",
    "Scheme, Ruby, Perl, and Tcl. \n",
    "Like other dynamic languages, Python is often used as a scripting language, but is also \n",
    "used in a wide range of non-scripting contexts. Using third-party tools, Python code can \n",
    "be packaged into standalone executable programs. Python interpreters are available for many operating systems.\"\"\"\n",
    "len(wikipedia_on_python)"
   ]
  },
  {
   "cell_type": "markdown",
   "metadata": {},
   "source": [
    "As we want to process natural language text, strings and string manipulations are going to be very important. Luckily for us, Python has a lot of built-in functionality for doing things with strings.\n",
    "\n",
    "### Some built-in string functions\n",
    "\n",
    "A note on notation: Some functions in Python are written like functions in mathematics: function name, then brackets, then arguments, for example\n",
    "```len(\"hello\")```\n",
    "\n",
    "Other functions are written in a different format: First one argument, then a period, then the function name, then other arguments in parentheses, for example\n",
    "```\"hello\".capitalize()```\n",
    "\n",
    "For now, just know that there are these two formats, and know that you need to remember which function is written in which fashion.\n",
    "\n",
    "Here are some useful string functions. Try them out to see what they do. "
   ]
  },
  {
   "cell_type": "code",
   "execution_count": 28,
   "metadata": {},
   "outputs": [
    {
     "data": {
      "text/plain": [
       "3"
      ]
     },
     "execution_count": 28,
     "metadata": {},
     "output_type": "execute_result"
    }
   ],
   "source": [
    "\"hippopotamus\".count(\"p\")"
   ]
  },
  {
   "cell_type": "code",
   "execution_count": 29,
   "metadata": {},
   "outputs": [
    {
     "data": {
      "text/plain": [
       "'knight'"
      ]
     },
     "execution_count": 29,
     "metadata": {},
     "output_type": "execute_result"
    }
   ],
   "source": [
    "\"KNIGHT\".lower()"
   ]
  },
  {
   "cell_type": "code",
   "execution_count": 30,
   "metadata": {},
   "outputs": [
    {
     "data": {
      "text/plain": [
       "'NEW'"
      ]
     },
     "execution_count": 30,
     "metadata": {},
     "output_type": "execute_result"
    }
   ],
   "source": [
    "\"new\".upper()"
   ]
  },
  {
   "cell_type": "code",
   "execution_count": 31,
   "metadata": {},
   "outputs": [
    {
     "data": {
      "text/plain": [
       "'New'"
      ]
     },
     "execution_count": 31,
     "metadata": {},
     "output_type": "execute_result"
    }
   ],
   "source": [
    "\"new\".capitalize()"
   ]
  },
  {
   "cell_type": "code",
   "execution_count": 32,
   "metadata": {},
   "outputs": [
    {
     "data": {
      "text/plain": [
       "'a lot of spaces, then some text'"
      ]
     },
     "execution_count": 32,
     "metadata": {},
     "output_type": "execute_result"
    }
   ],
   "source": [
    "\"    a lot of spaces, then some text \".strip()"
   ]
  },
  {
   "cell_type": "code",
   "execution_count": 33,
   "metadata": {},
   "outputs": [
    {
     "data": {
      "text/plain": [
       "'arhappyillo'"
      ]
     },
     "execution_count": 33,
     "metadata": {},
     "output_type": "execute_result"
    }
   ],
   "source": [
    "\"armadillo\".replace(\"mad\", \"happy\")"
   ]
  },
  {
   "cell_type": "markdown",
   "metadata": {},
   "source": [
    "Also, as mentioned above, you can use \"+\" to concatenate strings.\n",
    "\n",
    "Here is a string function that we will use a lot. It splits text on whitespace, returning something called a list, which we will discuss more later. We apply it to the first sentence of the Wikipedia page on Monty Python. As you can see, the result of ```split()``` is almost a separation of the sentence into words -- what does it get wrong, and why?"
   ]
  },
  {
   "cell_type": "code",
   "execution_count": 34,
   "metadata": {},
   "outputs": [
    {
     "data": {
      "text/plain": [
       "['Monty',\n",
       " 'Python',\n",
       " '(sometimes',\n",
       " 'known',\n",
       " 'as',\n",
       " 'The',\n",
       " 'Pythons)',\n",
       " 'was',\n",
       " 'a',\n",
       " 'British',\n",
       " 'surreal',\n",
       " 'comedy',\n",
       " 'group',\n",
       " 'who',\n",
       " 'created',\n",
       " 'their',\n",
       " 'influential',\n",
       " 'Monty',\n",
       " \"Python's\",\n",
       " 'Flying',\n",
       " 'Circus,',\n",
       " 'a',\n",
       " 'British',\n",
       " 'television',\n",
       " 'comedy',\n",
       " 'sketch',\n",
       " 'show',\n",
       " 'that',\n",
       " 'first',\n",
       " 'aired',\n",
       " 'on',\n",
       " 'the',\n",
       " 'BBC',\n",
       " 'on',\n",
       " '5',\n",
       " 'October',\n",
       " '1969.']"
      ]
     },
     "execution_count": 34,
     "metadata": {},
     "output_type": "execute_result"
    }
   ],
   "source": [
    "mystring = \"Monty Python (sometimes known as The Pythons) was a British surreal comedy group who created their influential Monty Python's Flying Circus, a British television comedy sketch show that first aired on the BBC on 5 October 1969.\"\n",
    "mystring.split()"
   ]
  },
  {
   "cell_type": "markdown",
   "metadata": {},
   "source": [
    "Some string functions return either True or False. (This is another datatype, called a Boolean.) For example, \"in\" tests for substrings. "
   ]
  },
  {
   "cell_type": "code",
   "execution_count": 35,
   "metadata": {},
   "outputs": [
    {
     "data": {
      "text/plain": [
       "True"
      ]
     },
     "execution_count": 35,
     "metadata": {},
     "output_type": "execute_result"
    }
   ],
   "source": [
    "\"eros\" in \"rhinoceros\""
   ]
  },
  {
   "cell_type": "code",
   "execution_count": 36,
   "metadata": {},
   "outputs": [
    {
     "data": {
      "text/plain": [
       "False"
      ]
     },
     "execution_count": 36,
     "metadata": {},
     "output_type": "execute_result"
    }
   ],
   "source": [
    "\"nose\" in \"rhinoceros\""
   ]
  },
  {
   "cell_type": "markdown",
   "metadata": {},
   "source": [
    "Note that you can make the word \"nose\" from the letters of \"rhinoceros\", but that is not what \"in\" tests.\n",
    "\n",
    "Here are two other functions that return True or False:"
   ]
  },
  {
   "cell_type": "code",
   "execution_count": 37,
   "metadata": {},
   "outputs": [
    {
     "data": {
      "text/plain": [
       "True"
      ]
     },
     "execution_count": 37,
     "metadata": {},
     "output_type": "execute_result"
    }
   ],
   "source": [
    "\"truism\".endswith(\"ism\")"
   ]
  },
  {
   "cell_type": "code",
   "execution_count": 38,
   "metadata": {},
   "outputs": [
    {
     "data": {
      "text/plain": [
       "False"
      ]
     },
     "execution_count": 38,
     "metadata": {},
     "output_type": "execute_result"
    }
   ],
   "source": [
    "\"inconsequential\".startswith(\"pro\")"
   ]
  },
  {
   "cell_type": "markdown",
   "metadata": {},
   "source": [
    "You can find Python documentation for Python 3.x at https://docs.python.org/3/. The subpage that you will probably use most often is the Python Standard Library at https://docs.python.org/3/library/index.html, which documents builtin functions and standard available packages. String functions are described at https://docs.python.org/3/library/stdtypes.html#text-sequence-type-str\n",
    "\n",
    "**Try it for yourself:** Use the string functions above, and the documentation on the Standard Library page, to answer the following questions. Some of the functions you need may only be on the Standard Library page.\n",
    "\n",
    "* Split the following sequence at each occurence of an \"!\": ``\"ab!cde!!f!ghij!!!\"``\n",
    "* How many letters are in the word \"jabberwocky\"?\n",
    "* Concatenate the following strings into a single sequence, making sure to also include a whitespace inbetween them: \"hello\", \"world\"\n",
    "* Test whether all characters in the following strings are digits: \"123456\", \"123.456\"\n",
    "* How many o's are there in \"onomotapoeia\"? And how many a's?"
   ]
  },
  {
   "cell_type": "code",
   "execution_count": 39,
   "metadata": {},
   "outputs": [],
   "source": [
    "# type your coe here."
   ]
  },
  {
   "cell_type": "markdown",
   "metadata": {},
   "source": [
    "### Accessing parts of a string\n",
    "\n",
    "You can use *indexing* to access individual letters or substrings of a string. "
   ]
  },
  {
   "cell_type": "code",
   "execution_count": 40,
   "metadata": {},
   "outputs": [
    {
     "data": {
      "text/plain": [
       "'n'"
      ]
     },
     "execution_count": 40,
     "metadata": {},
     "output_type": "execute_result"
    }
   ],
   "source": [
    "\"rhinoceros\"[3]"
   ]
  },
  {
   "cell_type": "code",
   "execution_count": 41,
   "metadata": {},
   "outputs": [
    {
     "data": {
      "text/plain": [
       "'r'"
      ]
     },
     "execution_count": 41,
     "metadata": {},
     "output_type": "execute_result"
    }
   ],
   "source": [
    "\"rhinoceros\"[0]"
   ]
  },
  {
   "cell_type": "markdown",
   "metadata": {},
   "source": [
    "The 4th character in \"rhinoceros\" is an \"n\", and the first is \"r\". Note that Python indices start at 0, \n",
    "so ```\"rhinoceros\"[0]``` gets you the first character. Also note that indices use straight brackets, not round.\n",
    "\n",
    "The following carves out a *slice* of a string: "
   ]
  },
  {
   "cell_type": "code",
   "execution_count": 42,
   "metadata": {},
   "outputs": [
    {
     "data": {
      "text/plain": [
       "'ino'"
      ]
     },
     "execution_count": 42,
     "metadata": {},
     "output_type": "execute_result"
    }
   ],
   "source": [
    "\"rhinoceros\"[2:5]"
   ]
  },
  {
   "cell_type": "markdown",
   "metadata": {},
   "source": [
    "The slice starts at the third letter (index 2), and ends before the 6th letter.\n",
    "\n",
    "What happens if you try to access a single character beyond the end of the string? What happens if you do the same with a slice? Try it. \n",
    "\n",
    "In the following line, remove the \"#\" to try the code."
   ]
  },
  {
   "cell_type": "code",
   "execution_count": 43,
   "metadata": {},
   "outputs": [],
   "source": [
    "# \"art\"[3]"
   ]
  },
  {
   "cell_type": "code",
   "execution_count": 44,
   "metadata": {},
   "outputs": [
    {
     "data": {
      "text/plain": [
       "'rt'"
      ]
     },
     "execution_count": 44,
     "metadata": {},
     "output_type": "execute_result"
    }
   ],
   "source": [
    "\"art\"[1:4]"
   ]
  },
  {
   "cell_type": "markdown",
   "metadata": {},
   "source": [
    "Do you think negative indices are valid? Give them a try. (They are in fact valid. Can you figure out what they do?)"
   ]
  },
  {
   "cell_type": "code",
   "execution_count": 45,
   "metadata": {},
   "outputs": [
    {
     "data": {
      "text/plain": [
       "'t'"
      ]
     },
     "execution_count": 45,
     "metadata": {},
     "output_type": "execute_result"
    }
   ],
   "source": [
    "\"art\"[-1]"
   ]
  },
  {
   "cell_type": "code",
   "execution_count": 46,
   "metadata": {},
   "outputs": [
    {
     "data": {
      "text/plain": [
       "'ar'"
      ]
     },
     "execution_count": 46,
     "metadata": {},
     "output_type": "execute_result"
    }
   ],
   "source": [
    "\"art\"[-3:-1]"
   ]
  },
  {
   "cell_type": "markdown",
   "metadata": {},
   "source": [
    "You can omit one of the indices in the slice. The slice ```\"polyphonic\"[2:]```  will contain all letters from the 3rd one to the end, and ```\"chimera\"[:4]\"``` has all letters up to and including the 4th. "
   ]
  },
  {
   "cell_type": "code",
   "execution_count": 47,
   "metadata": {},
   "outputs": [
    {
     "data": {
      "text/plain": [
       "'lyphonic'"
      ]
     },
     "execution_count": 47,
     "metadata": {},
     "output_type": "execute_result"
    }
   ],
   "source": [
    "\"polyphonic\"[2:]"
   ]
  },
  {
   "cell_type": "code",
   "execution_count": 48,
   "metadata": {},
   "outputs": [
    {
     "data": {
      "text/plain": [
       "'chim'"
      ]
     },
     "execution_count": 48,
     "metadata": {},
     "output_type": "execute_result"
    }
   ],
   "source": [
    "\"chimera\"[:4]"
   ]
  },
  {
   "cell_type": "markdown",
   "metadata": {},
   "source": [
    "**Try it for yourself:** What other words can you form out of the letters in \"rhinoceros\"? Find at least 3 words, and construct them in Python using indices to pick letters and using \"+\" to concatenate them. For example,\n",
    "if ```r = \"rhinoceros\"``` then ```r[3:5] + r[-1] + r[-4]``` gets you \"nose\"."
   ]
  },
  {
   "cell_type": "code",
   "execution_count": 49,
   "metadata": {},
   "outputs": [],
   "source": [
    "# type your code here."
   ]
  },
  {
   "cell_type": "markdown",
   "metadata": {},
   "source": [
    "Here is another neat trick: You can make the first index be bigger than the second, and then add a \"-1\" as a third number, like this:\n",
    "        \n",
    "        \"rhinoceros\"[9:5:-1]\"\n",
    "        \n",
    "Then the sequence will be inverted. Here is an example:"
   ]
  },
  {
   "cell_type": "code",
   "execution_count": 50,
   "metadata": {},
   "outputs": [
    {
     "data": {
      "text/plain": [
       "'sore'"
      ]
     },
     "execution_count": 50,
     "metadata": {},
     "output_type": "execute_result"
    }
   ],
   "source": [
    "\"rhinoceros\"[9:5:-1]"
   ]
  },
  {
   "cell_type": "markdown",
   "metadata": {},
   "source": [
    "Which is the same as:"
   ]
  },
  {
   "cell_type": "code",
   "execution_count": 51,
   "metadata": {},
   "outputs": [
    {
     "data": {
      "text/plain": [
       "'sore'"
      ]
     },
     "execution_count": 51,
     "metadata": {},
     "output_type": "execute_result"
    }
   ],
   "source": [
    "\"rhinoceros\"[-1:-5:-1]"
   ]
  },
  {
   "cell_type": "markdown",
   "metadata": {},
   "source": [
    "If you omit both indices and just put the \"-1\" as the third number, the whole string gets reversed:"
   ]
  },
  {
   "cell_type": "code",
   "execution_count": 52,
   "metadata": {},
   "outputs": [
    {
     "data": {
      "text/plain": [
       "'soreconihr'"
      ]
     },
     "execution_count": 52,
     "metadata": {},
     "output_type": "execute_result"
    }
   ],
   "source": [
    "\"rhinoceros\"[::-1]"
   ]
  },
  {
   "cell_type": "markdown",
   "metadata": {},
   "source": [
    "**Try it for yourself:** Try inverting a palindrome sentence, like \"No lemon, no melon\". Here are some others: https://examples.yourdictionary.com/palindrome-examples.html\n",
    "\n",
    "Or just pick a long word and see if you can find good reverse words hidden in it, like \"sore\" in \"rhinoceros\"."
   ]
  },
  {
   "cell_type": "code",
   "execution_count": 53,
   "metadata": {},
   "outputs": [],
   "source": [
    "# type your code here."
   ]
  },
  {
   "cell_type": "markdown",
   "metadata": {},
   "source": [
    "# Functions\n",
    "\n",
    "You have seen builtin functions, like type(), int(), str(), and functions from packages, like math.sqrt(). In Python, you can also define functions yourself. This is useful when you need to do the same thing (or something very similar) again and again. Suppose that you are in a country where temperature is given in Celsius, but you are more familiar with Fahrenheit. Here is how you can figure out that 20 degrees Celsius are 68 degrees Fahrenheit, and 30 degrees Celsius are 86 degrees Fahrenheit:"
   ]
  },
  {
   "cell_type": "code",
   "execution_count": 54,
   "metadata": {},
   "outputs": [
    {
     "name": "stdout",
     "output_type": "stream",
     "text": [
      "68.0\n"
     ]
    }
   ],
   "source": [
    "print( (20 * 9/5) + 32)"
   ]
  },
  {
   "cell_type": "code",
   "execution_count": 55,
   "metadata": {},
   "outputs": [
    {
     "name": "stdout",
     "output_type": "stream",
     "text": [
      "86.0\n"
     ]
    }
   ],
   "source": [
    "print( (30 * 9/5) + 32)"
   ]
  },
  {
   "cell_type": "markdown",
   "metadata": {},
   "source": [
    "If you need to convert temperatures very often, this gets tedious. Instead, you can define your own function by giving a name to a piece of code:"
   ]
  },
  {
   "cell_type": "code",
   "execution_count": 56,
   "metadata": {},
   "outputs": [],
   "source": [
    "def celsius_2_fahrenheit(temp):\n",
    "    fahrenheit = temp * 9/5 + 32\n",
    "    return fahrenheit"
   ]
  },
  {
   "cell_type": "code",
   "execution_count": 57,
   "metadata": {},
   "outputs": [],
   "source": [
    "# here is a variant without the variable \"fahrenheit\"\n",
    "def celsius_2_fahrenheit_variant(temp):\n",
    "    return (temp * 9/5) + 32"
   ]
  },
  {
   "cell_type": "markdown",
   "metadata": {},
   "source": [
    "After that, you can use ```celsius_2_fahrenheit``` like any built-in function:"
   ]
  },
  {
   "cell_type": "code",
   "execution_count": 58,
   "metadata": {},
   "outputs": [
    {
     "data": {
      "text/plain": [
       "50.0"
      ]
     },
     "execution_count": 58,
     "metadata": {},
     "output_type": "execute_result"
    }
   ],
   "source": [
    "celsius_2_fahrenheit(10)"
   ]
  },
  {
   "cell_type": "markdown",
   "metadata": {},
   "source": [
    "## Input and output\n",
    "\n",
    "A function has an input and an output. You know that from a builtin function like ```len()```: It takes as input an object, for example a list. You put the input between the parentheses. And it returns an output, the length of the object. You can, for example, store that output in a variable:"
   ]
  },
  {
   "cell_type": "code",
   "execution_count": 59,
   "metadata": {},
   "outputs": [
    {
     "name": "stdout",
     "output_type": "stream",
     "text": [
      "the output of len that I stored is 3\n"
     ]
    }
   ],
   "source": [
    "mylist = [\"a\", \"b\", \"c\"]\n",
    "somevariable = len(mylist)\n",
    "print(\"the output of len that I stored is\", somevariable)"
   ]
  },
  {
   "cell_type": "markdown",
   "metadata": {},
   "source": [
    "The same is true for functions that you define yourself. You define the inputs in parentheses after the function name. The function name is ```celsius_2_fahrenheit```, and in parentheses after that you see ```(temp)```. What is ```temp```? It is just a variable name. When you call a pre-defined function, you give it an actual input value. When you define your own function, you just prepare a container, a variable name, that will store the input. In this case, that container is ```temp```.\n",
    "\n",
    "The output of the function is what you see after the keyword ```return```: It is the value currently stored in ```fahrenheit```.\n",
    "\n",
    "So when we call our self-defined function with a different input, for example 100 (that is, 100 degrees celsius), the output that we get is 212:"
   ]
  },
  {
   "cell_type": "code",
   "execution_count": 60,
   "metadata": {},
   "outputs": [
    {
     "data": {
      "text/plain": [
       "212.0"
      ]
     },
     "execution_count": 60,
     "metadata": {},
     "output_type": "execute_result"
    }
   ],
   "source": [
    "celsius_2_fahrenheit(100)"
   ]
  },
  {
   "cell_type": "markdown",
   "metadata": {},
   "source": [
    "The variable ```temp``` in the function definition is used in much the same way as in function definitions in mathematics:\n",
    "\n",
    "f(x) = x+1\n",
    "\n",
    "There, you don't have to specify beforehand what x is. Rather, for each x, the function value is f(x) = x+1. In the same way, when you call your function saying celsius_2_fahrenheit(20), then at this time, Python stores the value 20 in the variable ```temp``` and executes the code of the function with ```temp``` set to 20.\n"
   ]
  },
  {
   "cell_type": "markdown",
   "metadata": {},
   "source": [
    "## The components of a function definition\n",
    "\n",
    "Let's take a look at all the bits and pieces of this function definition:"
   ]
  },
  {
   "cell_type": "code",
   "execution_count": 61,
   "metadata": {},
   "outputs": [],
   "source": [
    "def celsius_2_fahrenheit(temp):\n",
    "    fahrenheit = temp * 9/5 + 32\n",
    "    return fahrenheit"
   ]
  },
  {
   "cell_type": "markdown",
   "metadata": {},
   "source": [
    "* ```def``` is a reserved word. It tells Python that you are defining a function.\n",
    "\n",
    "* The name of the function is ```celsius_2_fahrenheit```. This is a variable that you define, just this time it is a container that contains Python code, not a number or a string. The names of functions are subject to the same restrictions as other Python variable names.\n",
    "\n",
    "* After the name of the function, you see the input to the function, also called its argument, in round brackets. This is a variable name: the container that we have prepared to take the actual input when the function is called.\n",
    "\n",
    "* After the argument there is a colon. \n",
    "* Then come some indented lines, which define what the function does."
   ]
  },
  {
   "cell_type": "code",
   "execution_count": 62,
   "metadata": {},
   "outputs": [
    {
     "name": "stdout",
     "output_type": "stream",
     "text": [
      "a\n",
      "bc\n"
     ]
    }
   ],
   "source": [
    "# compare to:\n",
    "for i in [\"a\", \"b\" \"c\"]:\n",
    "    print(i)\n",
    "    "
   ]
  },
  {
   "cell_type": "markdown",
   "metadata": {},
   "source": [
    "So we have an overall shape of \n",
    "\n",
    "```keyword something:\n",
    "    indented code```\n",
    "    \n",
    "which is the same as, for example, in for-loops and in if-conditions."
   ]
  },
  {
   "cell_type": "markdown",
   "metadata": {},
   "source": [
    "**Try it for yourself:**\n",
    "\n",
    "* Define a function that converts degrees Fahrenheit to degrees Celsius (for the  benefit of Europeans like me). \n",
    "\n",
    "* Define a function that takes a string as input, then strips all punctuation symbols from the beginning and end and lowercases. For example, when the input is \"Hello!\" the output should be \"hello\", and when the input is \"???WHAT???\", the output should be \"what\". "
   ]
  },
  {
   "cell_type": "markdown",
   "metadata": {},
   "source": [
    "## Returning lists\n",
    "\n",
    "The output, what you write after the keyword ```return```, can be a single value: a number, as in the Celsius-to-Fahrenheit example, or a string, as in the stripping-punctuation-and-lowercasing example. The output of a function can also be a list. Here is a function that takes a string as input, tokenizes it, lowercases, and removes punctuation:"
   ]
  },
  {
   "cell_type": "code",
   "execution_count": 63,
   "metadata": {},
   "outputs": [
    {
     "data": {
      "text/plain": [
       "['what', 'a', 'lovely', 'day']"
      ]
     },
     "execution_count": 63,
     "metadata": {},
     "output_type": "execute_result"
    }
   ],
   "source": [
    "import nltk\n",
    "import string\n",
    "\n",
    "def my_preprocess(inputstring):\n",
    "    words = nltk.word_tokenize(inputstring)\n",
    "    newwords = [w.lower() for w in words if w.strip(string.punctuation) != \"\"]\n",
    "    return newwords\n",
    "\n",
    "my_preprocess(\"What a lovely day!!\")"
   ]
  },
  {
   "cell_type": "markdown",
   "metadata": {},
   "source": [
    "**Try it for yourself:**\n",
    "\n",
    "* Define a function that takes as input a string, splits it on whitespace, removes every word that starts with \"http\", and returns the remaining list of words. So if the input is ```\"Go to https:\\\\abc.def.gh\"```, the output should be ```[\"Go\", \"to\"]```\n",
    "\n",
    "* Define a function that takes as input a string of numbers separated by whitespace, for example ```\"123 3.4  67.9\"```. It should return a list with the numbers that were in the string, in our case ```[123, 3.4, 67.9]```."
   ]
  },
  {
   "cell_type": "markdown",
   "metadata": {},
   "source": [
    "## Functions with multiple arguments\n",
    "\n",
    "A function can have more than one piece of input. Here is an example. This function repeats a string a given number of times:"
   ]
  },
  {
   "cell_type": "code",
   "execution_count": 64,
   "metadata": {},
   "outputs": [
    {
     "data": {
      "text/plain": [
       "'hellohellohellohellohello'"
      ]
     },
     "execution_count": 64,
     "metadata": {},
     "output_type": "execute_result"
    }
   ],
   "source": [
    "def repeat_string(somestring, numtimes):\n",
    "    return somestring * numtimes\n",
    "\n",
    "repeat_string(\"hello\", 5)"
   ]
  },
  {
   "cell_type": "code",
   "execution_count": null,
   "metadata": {},
   "outputs": [],
   "source": []
  }
 ],
 "metadata": {
  "kernelspec": {
   "display_name": "Python 3",
   "language": "python",
   "name": "python3"
  },
  "language_info": {
   "codemirror_mode": {
    "name": "ipython",
    "version": 3
   },
   "file_extension": ".py",
   "mimetype": "text/x-python",
   "name": "python",
   "nbconvert_exporter": "python",
   "pygments_lexer": "ipython3",
   "version": "3.7.6"
  },
  "toc": {
   "base_numbering": 1,
   "nav_menu": {},
   "number_sections": true,
   "sideBar": true,
   "skip_h1_title": false,
   "title_cell": "Table of Contents",
   "title_sidebar": "Contents",
   "toc_cell": false,
   "toc_position": {},
   "toc_section_display": true,
   "toc_window_display": false
  }
 },
 "nbformat": 4,
 "nbformat_minor": 2
}
