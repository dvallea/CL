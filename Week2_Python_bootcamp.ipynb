{
 "cells": [
  {
   "cell_type": "code",
   "execution_count": 1,
   "metadata": {},
   "outputs": [
    {
     "data": {
      "image/jpeg": "[encoded data removed]",
      "text/plain": [
       "<IPython.core.display.Image object>"
      ]
     },
     "execution_count": 1,
     "metadata": {},
     "output_type": "execute_result"
    }
   ],
   "source": [
    "from IPython.display import Image\n",
    "Image(filename='jupyter.jpg') "
   ]
  },
  {
   "cell_type": "markdown",
   "metadata": {},
   "source": [
    "# Jupyter Notebooks"
   ]
  },
  {
   "cell_type": "markdown",
   "metadata": {},
   "source": [
    "Jupyter notebooks provide an environment to run code interactively, as opposed to the command line or other code editors. You can access the Jupyter notebook documentation here: https://docs.jupyter.org/en/latest/index.html\n",
    "\n",
    "In addition, Jupyter notebooks allow text (\"markdown\") to be combined with code boxes, as shown below in [1]. You can write and run Python code in code boxes, and you can write and format text in markdown boxes.\n",
    "\n",
    "To execute Python code in a code box, click on a code box and click \"Run\", for example in the box below. "
   ]
  },
  {
   "cell_type": "code",
   "execution_count": 2,
   "metadata": {},
   "outputs": [
    {
     "name": "stdout",
     "output_type": "stream",
     "text": [
      "Click 'Run' to execute this piece of code.\n"
     ]
    }
   ],
   "source": [
    "print(\"Click 'Run' to execute this piece of code.\")"
   ]
  },
  {
   "cell_type": "markdown",
   "metadata": {},
   "source": [
    "You can also use a keyboard shortcut to run the code in the box you are currently in. The command for that is\n",
    "\n",
    "Shift+Enter."
   ]
  },
  {
   "cell_type": "markdown",
   "metadata": {},
   "source": [
    "## Inserting a new box\n",
    "\n",
    "Additional boxes can be inserted in a Jupyter Notebook by pressing ESC B. This will create a new box below the one you are currently in. Pressing ESC A will create a new box above the box you are currently in. To get out of command mode, press \"Enter\".\n",
    "\n",
    "(More info: ESC gets you into command mode, and then B means \"make a new box Below\" and A means \"make a new box Above. Enter gets you out of command mode, and into the mode where you can type in the current box.)"
   ]
  },
  {
   "cell_type": "markdown",
   "metadata": {},
   "source": [
    "## Code versus Markdown\n",
    "\n",
    "You can see in the top menu whether the box you are currently in is \"Code\" or \"Markdown\". In that drop-down menu, you can switch the current box between Code and Markdown.\n",
    "\n",
    "Or you can hit ESC M to make the current box Markdown. (Then remember to hit Enter to get out of command mode). ESC Y changes the current box from Markdown to a Code box. "
   ]
  },
  {
   "cell_type": "markdown",
   "metadata": {},
   "source": [
    "## Formating Markdown\n",
    "\n",
    "In Markdown mode, ```*surrounding text by a single star on either side*``` makes it *italic*. ```**Two stars**``` make it **boldface.**\n",
    "\n",
    "Putting triple back quotes around text makes it look like ```code```.\n",
    "\n",
    "When you put a single hash mark at the beginning of the line, the following text will be formatted as a big heading. With two hash marks, you get a smaller heading, and so on."
   ]
  },
  {
   "cell_type": "markdown",
   "metadata": {},
   "source": [
    "## Comments\n",
    "'#' is for commenting in a Python code box: Python will ignore anything you type after '#' in any line; this is, it will not be read as part of the code in that cell. "
   ]
  },
  {
   "cell_type": "code",
   "execution_count": 3,
   "metadata": {},
   "outputs": [],
   "source": [
    "# This is a comment inside a code box.\n",
    "# Below is a command, but Python will not read it as code because there is a hashtag,\n",
    "# print(\"Click 'Run' to execute this piece of code.\")"
   ]
  },
  {
   "cell_type": "code",
   "execution_count": 4,
   "metadata": {},
   "outputs": [
    {
     "name": "stdout",
     "output_type": "stream",
     "text": [
      "Click 'Run' to execute this piece of code.\n"
     ]
    }
   ],
   "source": [
    "print(\"Click 'Run' to execute this piece of code.\")"
   ]
  },
  {
   "cell_type": "markdown",
   "metadata": {},
   "source": [
    "## Jupyter Notebook tips\n",
    "\n",
    "... can be found here: https://www.dataquest.io/blog/jupyter-notebook-tips-tricks-shortcuts/"
   ]
  },
  {
   "cell_type": "markdown",
   "metadata": {},
   "source": [
    "# Python intro\n",
    "You can type expressions of Python into a Jupyter Notebook, in one of the boxes that say \"In [...]\", and have Python evaluate them. Here is an example:"
   ]
  },
  {
   "cell_type": "code",
   "execution_count": 5,
   "metadata": {},
   "outputs": [
    {
     "data": {
      "text/plain": [
       "6"
      ]
     },
     "execution_count": 5,
     "metadata": {},
     "output_type": "execute_result"
    }
   ],
   "source": [
    "3+3"
   ]
  },
  {
   "cell_type": "markdown",
   "metadata": {},
   "source": [
    "Play around using Python as a calculator. You can do things like add, subtract, multiply, divide, use powers  and modulus."
   ]
  },
  {
   "cell_type": "code",
   "execution_count": 6,
   "metadata": {},
   "outputs": [
    {
     "data": {
      "text/plain": [
       "9"
      ]
     },
     "execution_count": 6,
     "metadata": {},
     "output_type": "execute_result"
    }
   ],
   "source": [
    "3 * 3"
   ]
  },
  {
   "cell_type": "code",
   "execution_count": 7,
   "metadata": {},
   "outputs": [
    {
     "data": {
      "text/plain": [
       "0"
      ]
     },
     "execution_count": 7,
     "metadata": {},
     "output_type": "execute_result"
    }
   ],
   "source": [
    "3 - 3"
   ]
  },
  {
   "cell_type": "code",
   "execution_count": 8,
   "metadata": {},
   "outputs": [
    {
     "data": {
      "text/plain": [
       "27"
      ]
     },
     "execution_count": 8,
     "metadata": {},
     "output_type": "execute_result"
    }
   ],
   "source": [
    "3 ** 3"
   ]
  },
  {
   "cell_type": "code",
   "execution_count": 9,
   "metadata": {},
   "outputs": [
    {
     "data": {
      "text/plain": [
       "1.0"
      ]
     },
     "execution_count": 9,
     "metadata": {},
     "output_type": "execute_result"
    }
   ],
   "source": [
    "3 / 3"
   ]
  },
  {
   "cell_type": "code",
   "execution_count": 10,
   "metadata": {},
   "outputs": [
    {
     "data": {
      "text/plain": [
       "0"
      ]
     },
     "execution_count": 10,
     "metadata": {},
     "output_type": "execute_result"
    }
   ],
   "source": [
    "3 % 3"
   ]
  },
  {
   "cell_type": "markdown",
   "metadata": {},
   "source": [
    "Here is an expression that is a string. Python knows it is a string because it is enclosed in double quotes, like \"this\". Single quotes, like 'this', also work."
   ]
  },
  {
   "cell_type": "code",
   "execution_count": 11,
   "metadata": {},
   "outputs": [
    {
     "data": {
      "text/plain": [
       "'Hello world'"
      ]
     },
     "execution_count": 11,
     "metadata": {},
     "output_type": "execute_result"
    }
   ],
   "source": [
    "\"Hello world\""
   ]
  },
  {
   "cell_type": "markdown",
   "metadata": {},
   "source": [
    "Python knows about basic arithmetic expressions. It also uses \"+\" not only to add numbers, but also to concatenate (join) strings together:"
   ]
  },
  {
   "cell_type": "code",
   "execution_count": 12,
   "metadata": {},
   "outputs": [
    {
     "data": {
      "text/plain": [
       "'Hello world'"
      ]
     },
     "execution_count": 12,
     "metadata": {},
     "output_type": "execute_result"
    }
   ],
   "source": [
    "\"Hello\" + \" \" + \"world\""
   ]
  },
  {
   "cell_type": "markdown",
   "metadata": {},
   "source": [
    "## Variables\n",
    "\n",
    "Data is stored on your hard drive in files. Each file has a name by which you can retrieve the data. In programming languages, one needs to store data by giving it a name so that it can later be retrieved by that name; for example, if you make a calculation you intend to use later, you need to name that calculation so that you can then use it in a later calculation. In a programming language, one makes a *variable* in which one stores data, giving it a name by which one can later retrieve the data, also known as 'variable assignment'. \n",
    "\n",
    "Try running the following box:"
   ]
  },
  {
   "cell_type": "code",
   "execution_count": 13,
   "metadata": {},
   "outputs": [
    {
     "data": {
      "text/plain": [
       "5"
      ]
     },
     "execution_count": 13,
     "metadata": {},
     "output_type": "execute_result"
    }
   ],
   "source": [
    "var = 2 + 3\n",
    "var"
   ]
  },
  {
   "cell_type": "markdown",
   "metadata": {},
   "source": [
    "The output you saw is the content of ```var```. Here it is again:"
   ]
  },
  {
   "cell_type": "code",
   "execution_count": 14,
   "metadata": {},
   "outputs": [
    {
     "data": {
      "text/plain": [
       "5"
      ]
     },
     "execution_count": 14,
     "metadata": {},
     "output_type": "execute_result"
    }
   ],
   "source": [
    "var"
   ]
  },
  {
   "cell_type": "markdown",
   "metadata": {},
   "source": [
    "You can change the contents of a variable by using \"=\" for assignment:"
   ]
  },
  {
   "cell_type": "code",
   "execution_count": 15,
   "metadata": {},
   "outputs": [],
   "source": [
    "var = 9"
   ]
  },
  {
   "cell_type": "markdown",
   "metadata": {},
   "source": [
    "You can access the contents of a variable through its name:"
   ]
  },
  {
   "cell_type": "code",
   "execution_count": 16,
   "metadata": {},
   "outputs": [
    {
     "data": {
      "text/plain": [
       "63"
      ]
     },
     "execution_count": 16,
     "metadata": {},
     "output_type": "execute_result"
    }
   ],
   "source": [
    "another_number_var = var * 7\n",
    "another_number_var"
   ]
  },
  {
   "cell_type": "markdown",
   "metadata": {},
   "source": [
    "Anytime you update a file on your computer, you are storing a new value under its existing name (you make changes to the file, edit it, and save it, thereby replacing the old version of that file). You can do the same in programming with a variable. In the line ```var = 9``` we are storing a new value in the same variable that we had before, var.\n",
    "\n",
    "You choose the names for the variables you use. But there are some restrictions:\n",
    "\n",
    "* Variable names can contain letters, numbers, underscore\n",
    "* They must not start with a number.\n",
    "* They must not be identical to one of the \"reserved words\" that Python has already defined.\n",
    "\n",
    "\n",
    "You can also change a variable like this:"
   ]
  },
  {
   "cell_type": "code",
   "execution_count": 17,
   "metadata": {},
   "outputs": [],
   "source": [
    "var = var + 4"
   ]
  },
  {
   "cell_type": "markdown",
   "metadata": {},
   "source": [
    "Remember ```=``` is not a statement of equality, rather it is an instance of variable assignment: Take what is in ```var```, add four to it, and store the result in ```var```, as you can check:"
   ]
  },
  {
   "cell_type": "code",
   "execution_count": 18,
   "metadata": {},
   "outputs": [
    {
     "data": {
      "text/plain": [
       "13"
      ]
     },
     "execution_count": 18,
     "metadata": {},
     "output_type": "execute_result"
    }
   ],
   "source": [
    "var"
   ]
  },
  {
   "cell_type": "markdown",
   "metadata": {},
   "source": [
    "**Your turn:** Make up a variable name and store in it the value of the expression ```3*9```. Inspect your variable to see what it contains. Then reduce its value by 4. Now make up a second variable, and set it to have the same value as the first one."
   ]
  },
  {
   "cell_type": "code",
   "execution_count": 19,
   "metadata": {},
   "outputs": [],
   "source": [
    "# You can type your code here."
   ]
  },
  {
   "cell_type": "markdown",
   "metadata": {},
   "source": [
    "## Data types: strings and numbers\n",
    "\n",
    "We have seen three data types so far:\n",
    "\n",
    "* Integers (whole numbers)\n",
    "* Floating point numbers (numbers with decimals)\n",
    "* Strings (characters)\n",
    "\n",
    "Different data types allow different operations on them. As you practiced doing calculations earlier, integers and floating point numbers can be added, subtracted, divided, ... Strings can be concatenated (joined together), you can count letters in them, and so on. You need to make sure you're using the correct data type for the operation you'd like to run."
   ]
  },
  {
   "cell_type": "code",
   "execution_count": 20,
   "metadata": {},
   "outputs": [
    {
     "data": {
      "text/plain": [
       "333"
      ]
     },
     "execution_count": 20,
     "metadata": {},
     "output_type": "execute_result"
    }
   ],
   "source": [
    "341 - 8"
   ]
  },
  {
   "cell_type": "markdown",
   "metadata": {},
   "source": [
    "But you cannot subtract strings. Remove the \"#\" at the beginning of the next line, then run, to get an error.\n",
    "\n",
    "Remove the \"#\" at the beginning of the following line to get an error message. "
   ]
  },
  {
   "cell_type": "code",
   "execution_count": 21,
   "metadata": {},
   "outputs": [],
   "source": [
    "#\"hello\" - \"world\""
   ]
  },
  {
   "cell_type": "markdown",
   "metadata": {},
   "source": [
    "When something goes wrong in the code, Python gives you an error message. Reading error messages is very important because it will help you figure out what went wrong. Here, it says that you cannot subtract a string from a string.\n",
    "\n",
    "Especially in the beginning, you will see A LOT of error messages. \n",
    "\n",
    "Here is something that works for strings but not numbers: strings have a length, but numbers don't, as in [15]. "
   ]
  },
  {
   "cell_type": "code",
   "execution_count": 22,
   "metadata": {},
   "outputs": [
    {
     "data": {
      "text/plain": [
       "11"
      ]
     },
     "execution_count": 22,
     "metadata": {},
     "output_type": "execute_result"
    }
   ],
   "source": [
    "len(\"hello world\")"
   ]
  },
  {
   "cell_type": "markdown",
   "metadata": {},
   "source": [
    "Remove the \"#\" at the beginning of the following line to get an error message:"
   ]
  },
  {
   "cell_type": "code",
   "execution_count": 23,
   "metadata": {},
   "outputs": [],
   "source": [
    "#len(341)"
   ]
  },
  {
   "cell_type": "markdown",
   "metadata": {},
   "source": [
    "The error message above says data objects having a data type of int(eger)  do not have lenght. Put it in other words, the function len() cannot be applied to integers."
   ]
  },
  {
   "cell_type": "markdown",
   "metadata": {},
   "source": [
    "There are built-in functions in Python that convert data from one type to another. ```int()``` converts to an integer. You can apply it to a string, if it actually contains an integer. Remember: \"3\" is a string because of the quotes, while 3 is a number. You can also apply ```int()``` to a floating point number. ```float()``` converts to a floating point number, and ```str()``` converts to a string:"
   ]
  },
  {
   "cell_type": "code",
   "execution_count": 24,
   "metadata": {},
   "outputs": [
    {
     "data": {
      "text/plain": [
       "341"
      ]
     },
     "execution_count": 24,
     "metadata": {},
     "output_type": "execute_result"
    }
   ],
   "source": [
    "int(\"341\")"
   ]
  },
  {
   "cell_type": "code",
   "execution_count": 25,
   "metadata": {},
   "outputs": [
    {
     "data": {
      "text/plain": [
       "341"
      ]
     },
     "execution_count": 25,
     "metadata": {},
     "output_type": "execute_result"
    }
   ],
   "source": [
    "int(341.7)"
   ]
  },
  {
   "cell_type": "markdown",
   "metadata": {},
   "source": [
    "Remove the \"#\" at the beginning of the following line to get an error message."
   ]
  },
  {
   "cell_type": "code",
   "execution_count": 26,
   "metadata": {},
   "outputs": [],
   "source": [
    "# int(\"hello\")"
   ]
  },
  {
   "cell_type": "code",
   "execution_count": 27,
   "metadata": {},
   "outputs": [
    {
     "data": {
      "text/plain": [
       "341.0"
      ]
     },
     "execution_count": 27,
     "metadata": {},
     "output_type": "execute_result"
    }
   ],
   "source": [
    "float(341)"
   ]
  },
  {
   "cell_type": "code",
   "execution_count": 28,
   "metadata": {},
   "outputs": [
    {
     "data": {
      "text/plain": [
       "341.74"
      ]
     },
     "execution_count": 28,
     "metadata": {},
     "output_type": "execute_result"
    }
   ],
   "source": [
    "float(\"341.74\")"
   ]
  },
  {
   "cell_type": "code",
   "execution_count": 29,
   "metadata": {},
   "outputs": [
    {
     "data": {
      "text/plain": [
       "'3.41'"
      ]
     },
     "execution_count": 29,
     "metadata": {},
     "output_type": "execute_result"
    }
   ],
   "source": [
    "str(3.41)"
   ]
  },
  {
   "cell_type": "markdown",
   "metadata": {},
   "source": [
    "You can also ask Python what the type of a piece of data is., using the function ```type()```. The type of a variable is the type of its contents."
   ]
  },
  {
   "cell_type": "code",
   "execution_count": 30,
   "metadata": {},
   "outputs": [
    {
     "data": {
      "text/plain": [
       "int"
      ]
     },
     "execution_count": 30,
     "metadata": {},
     "output_type": "execute_result"
    }
   ],
   "source": [
    "type(1)"
   ]
  },
  {
   "cell_type": "code",
   "execution_count": 31,
   "metadata": {},
   "outputs": [
    {
     "data": {
      "text/plain": [
       "float"
      ]
     },
     "execution_count": 31,
     "metadata": {},
     "output_type": "execute_result"
    }
   ],
   "source": [
    "type(1.1)"
   ]
  },
  {
   "cell_type": "code",
   "execution_count": 32,
   "metadata": {},
   "outputs": [
    {
     "data": {
      "text/plain": [
       "str"
      ]
     },
     "execution_count": 32,
     "metadata": {},
     "output_type": "execute_result"
    }
   ],
   "source": [
    "type(\"1\")"
   ]
  },
  {
   "cell_type": "code",
   "execution_count": 33,
   "metadata": {},
   "outputs": [
    {
     "data": {
      "text/plain": [
       "str"
      ]
     },
     "execution_count": 33,
     "metadata": {},
     "output_type": "execute_result"
    }
   ],
   "source": [
    "type(\"hello world\")"
   ]
  },
  {
   "cell_type": "code",
   "execution_count": 34,
   "metadata": {},
   "outputs": [
    {
     "data": {
      "text/plain": [
       "int"
      ]
     },
     "execution_count": 34,
     "metadata": {},
     "output_type": "execute_result"
    }
   ],
   "source": [
    "type(var)"
   ]
  },
  {
   "cell_type": "markdown",
   "metadata": {},
   "source": [
    "## Strings\n",
    "\n",
    "Strings in Python are arbitrary sequences of characters, enclosed in either \"...\" or '...'. \n",
    "\n",
    "To make a string that runs over more than one line, use ```\"\"\"...\"\"\"``` That is, three double quotes, then the string, then three double quotes. (You can also use three single quotes on either side. But you have to use the same kinds of quotes.) For example, here is a string representing the first paragraph of the U. Mississippi Ph.D. in Modern Languages website entry."
   ]
  },
  {
   "cell_type": "code",
   "execution_count": 35,
   "metadata": {},
   "outputs": [
    {
     "data": {
      "text/plain": [
       "412"
      ]
     },
     "execution_count": 35,
     "metadata": {},
     "output_type": "execute_result"
    }
   ],
   "source": [
    "modern_languages = \"\"\"Students in the Applied Linguistics Ph.D. emphasis focus on linguistics, \n",
    "empirical research, and language pedagogy. The curriculum is shaped by the scholarship of the department’s \n",
    "faculty. Faculty expertise includes dialectology, discourse analysis, functional linguistics, historical \n",
    "linguistics, language obsolescence, language pedagogy, language variation, second language phonology, and \n",
    "sociolinguistics.\"\"\"\n",
    "len(modern_languages)"
   ]
  },
  {
   "cell_type": "markdown",
   "metadata": {},
   "source": [
    "As we want to process natural language text, strings and string manipulations are going to be very important. Fortunately, Python has a lot of built-in functionality for doing things with strings.\n",
    "\n",
    "### Built-in string functions\n",
    "\n",
    "A note on notation: Some functions in Python are written like functions in mathematics: function name, then brackets, then arguments, for example\n",
    "```len(\"hello\")```\n",
    "\n",
    "Other functions are written in a different format, also known as 'method': First one argument, then a period, then the function name, then other arguments in parentheses, for example\n",
    "```\"hello\".capitalize()```\n",
    "\n",
    "Some frequent useful functions come next:"
   ]
  },
  {
   "cell_type": "code",
   "execution_count": 36,
   "metadata": {},
   "outputs": [
    {
     "data": {
      "text/plain": [
       "6"
      ]
     },
     "execution_count": 36,
     "metadata": {},
     "output_type": "execute_result"
    }
   ],
   "source": [
    "\"dispossessions\".count(\"s\")"
   ]
  },
  {
   "cell_type": "code",
   "execution_count": 37,
   "metadata": {},
   "outputs": [
    {
     "data": {
      "text/plain": [
       "'nato'"
      ]
     },
     "execution_count": 37,
     "metadata": {},
     "output_type": "execute_result"
    }
   ],
   "source": [
    "\"NATO\".lower()"
   ]
  },
  {
   "cell_type": "code",
   "execution_count": 38,
   "metadata": {},
   "outputs": [
    {
     "data": {
      "text/plain": [
       "'NATO'"
      ]
     },
     "execution_count": 38,
     "metadata": {},
     "output_type": "execute_result"
    }
   ],
   "source": [
    "\"nato\".upper()"
   ]
  },
  {
   "cell_type": "code",
   "execution_count": 39,
   "metadata": {},
   "outputs": [
    {
     "data": {
      "text/plain": [
       "'Canada'"
      ]
     },
     "execution_count": 39,
     "metadata": {},
     "output_type": "execute_result"
    }
   ],
   "source": [
    "\"canada\".capitalize()"
   ]
  },
  {
   "cell_type": "code",
   "execution_count": 40,
   "metadata": {},
   "outputs": [
    {
     "data": {
      "text/plain": [
       "'many spaces, then some text'"
      ]
     },
     "execution_count": 40,
     "metadata": {},
     "output_type": "execute_result"
    }
   ],
   "source": [
    "\"    many spaces, then some text \".strip()"
   ]
  },
  {
   "cell_type": "code",
   "execution_count": 41,
   "metadata": {},
   "outputs": [
    {
     "data": {
      "text/plain": [
       "'arhappyillo'"
      ]
     },
     "execution_count": 41,
     "metadata": {},
     "output_type": "execute_result"
    }
   ],
   "source": [
    "\"armadillo\".replace(\"mad\", \"happy\")"
   ]
  },
  {
   "cell_type": "markdown",
   "metadata": {},
   "source": [
    "Also, as mentioned above, you can use \"+\" to concatenate (join) strings.\n",
    "\n",
    "The string.split() is a string function that will be used a lot. It splits text when there is a whitespace and returns a list. Below this function has been applied to the first paragraph of the University of Mississippi website About UM page. The result of ```split()``` is the separation of the sentence into words, although as you may notice below, the result is not always perfect."
   ]
  },
  {
   "cell_type": "code",
   "execution_count": 42,
   "metadata": {},
   "outputs": [
    {
     "data": {
      "text/plain": [
       "['The',\n",
       " 'University',\n",
       " 'of',\n",
       " 'Mississippi,',\n",
       " 'affectionately',\n",
       " 'known',\n",
       " 'as',\n",
       " 'Ole',\n",
       " 'Miss,',\n",
       " 'is',\n",
       " 'the',\n",
       " \"state's\",\n",
       " 'flagship',\n",
       " 'university.',\n",
       " 'Included',\n",
       " 'in',\n",
       " 'the',\n",
       " 'elite',\n",
       " 'group',\n",
       " 'of',\n",
       " 'R1:',\n",
       " 'Doctoral',\n",
       " 'Universities',\n",
       " '-',\n",
       " 'Highest',\n",
       " 'Research',\n",
       " 'Activity',\n",
       " 'by',\n",
       " 'the',\n",
       " 'Carnegie',\n",
       " 'Classification,',\n",
       " 'it',\n",
       " 'has',\n",
       " 'a',\n",
       " 'long',\n",
       " 'history',\n",
       " 'of',\n",
       " 'producing',\n",
       " 'leaders',\n",
       " 'in',\n",
       " 'public',\n",
       " 'service,',\n",
       " 'academics',\n",
       " 'and',\n",
       " 'business.',\n",
       " 'Its',\n",
       " '16',\n",
       " 'academic',\n",
       " 'divisions',\n",
       " 'include',\n",
       " 'a',\n",
       " 'major',\n",
       " 'medical',\n",
       " 'school,',\n",
       " 'nationally',\n",
       " 'recognized',\n",
       " 'schools',\n",
       " 'of',\n",
       " 'accountancy,',\n",
       " 'law',\n",
       " 'and',\n",
       " 'pharmacy,',\n",
       " 'and',\n",
       " 'an',\n",
       " 'Honors',\n",
       " 'College',\n",
       " 'acclaimed',\n",
       " 'for',\n",
       " 'a',\n",
       " 'blend',\n",
       " 'of',\n",
       " 'academic',\n",
       " 'rigor,',\n",
       " 'experiential',\n",
       " 'learning',\n",
       " 'and',\n",
       " 'opportunities',\n",
       " 'for',\n",
       " 'community',\n",
       " 'action.',\n",
       " 'Recognized',\n",
       " 'among',\n",
       " 'the',\n",
       " 'nation’s',\n",
       " 'most',\n",
       " 'beautiful,',\n",
       " 'Ole',\n",
       " \"Miss'\",\n",
       " 'main',\n",
       " 'campus',\n",
       " 'is',\n",
       " 'in',\n",
       " 'Oxford,',\n",
       " 'which',\n",
       " 'is',\n",
       " 'routinely',\n",
       " 'acknowledged',\n",
       " 'as',\n",
       " 'one',\n",
       " 'of',\n",
       " 'the',\n",
       " \"country's\",\n",
       " 'best',\n",
       " 'college',\n",
       " 'towns.']"
      ]
     },
     "execution_count": 42,
     "metadata": {},
     "output_type": "execute_result"
    }
   ],
   "source": [
    "mystring = \"The University of Mississippi, affectionately known as Ole Miss, is the state's flagship university. Included in the elite group of R1: Doctoral Universities - Highest Research Activity by the Carnegie Classification, it has a long history of producing leaders in public service, academics and business. Its 16 academic divisions include a major medical school, nationally recognized schools of accountancy, law and pharmacy, and an Honors College acclaimed for a blend of academic rigor, experiential learning and opportunities for community action. Recognized among the nation’s most beautiful, Ole Miss' main campus is in Oxford, which is routinely acknowledged as one of the country's best college towns.\".split()\n",
    "mystring"
   ]
  },
  {
   "cell_type": "markdown",
   "metadata": {},
   "source": [
    "You can also add a variable to the content of a string using the .format() method on a string."
   ]
  },
  {
   "cell_type": "code",
   "execution_count": 43,
   "metadata": {},
   "outputs": [
    {
     "data": {
      "text/plain": [
       "'My age is 24'"
      ]
     },
     "execution_count": 43,
     "metadata": {},
     "output_type": "execute_result"
    }
   ],
   "source": [
    "age = 24\n",
    "text = \"My age is {}\"\n",
    "text.format(age)"
   ]
  },
  {
   "cell_type": "markdown",
   "metadata": {},
   "source": [
    "Python documentation for Python 3.x at https://docs.python.org/3/. \n",
    "Python Standard Library at https://docs.python.org/3/library/index.html, which documents built-in functions and standard available packages. \n",
    "String functions are described at https://docs.python.org/3/library/stdtypes.html#text-sequence-type-str\n",
    "\n",
    "**Your turn:** Use the string functions above, and the documentation on the Standard Library page, to answer the following questions. Some of the functions you need may only be on the Standard Library page.\n",
    "\n",
    "* How many letters are in the word \"Sprachwissenschaft\"?\n",
    "* How many i's are there in \"Mississippi\"? How many s's?\n",
    "* Concatenate the following strings into a single sequence, making sure to also include a whitespace in between them: \"hello\", \"world\"\n",
    "* Split the following sequence at each occurrence of an \"!\": ``\"Jupyter!notebooks!is!the!best!!!\"``"
   ]
  },
  {
   "cell_type": "code",
   "execution_count": 44,
   "metadata": {},
   "outputs": [],
   "source": [
    "# type your code here."
   ]
  },
  {
   "cell_type": "markdown",
   "metadata": {},
   "source": [
    "### String slicing\n",
    "\n",
    "You can use *indexing* to access individual letters or substrings of a string. "
   ]
  },
  {
   "cell_type": "code",
   "execution_count": 45,
   "metadata": {},
   "outputs": [
    {
     "data": {
      "text/plain": [
       "'a'"
      ]
     },
     "execution_count": 45,
     "metadata": {},
     "output_type": "execute_result"
    }
   ],
   "source": [
    "\"platypus\"[2]"
   ]
  },
  {
   "cell_type": "code",
   "execution_count": 46,
   "metadata": {},
   "outputs": [
    {
     "data": {
      "text/plain": [
       "'p'"
      ]
     },
     "execution_count": 46,
     "metadata": {},
     "output_type": "execute_result"
    }
   ],
   "source": [
    "\"platypus\"[0]"
   ]
  },
  {
   "cell_type": "markdown",
   "metadata": {},
   "source": [
    "Note that Python indices start at 0, so ```\"platypus\"[0]``` gets you the first character 'p'. Also note that indices use straight brackets, not round.\n",
    "\n",
    "The following carves out a *slice* of a string: "
   ]
  },
  {
   "cell_type": "code",
   "execution_count": 47,
   "metadata": {},
   "outputs": [
    {
     "data": {
      "text/plain": [
       "'aty'"
      ]
     },
     "execution_count": 47,
     "metadata": {},
     "output_type": "execute_result"
    }
   ],
   "source": [
    "\"platypus\"[2:5]"
   ]
  },
  {
   "cell_type": "markdown",
   "metadata": {},
   "source": [
    "The slice starts at the third letter (index 2), and ends before the 6th letter.\n",
    "\n",
    "What happens if you try to access a single character beyond the end of the string? What happens if you do the same with a slice? Try it. \n",
    "\n",
    "In the following line, remove the \"#\" to try the code."
   ]
  },
  {
   "cell_type": "code",
   "execution_count": 48,
   "metadata": {},
   "outputs": [],
   "source": [
    "# \"aty\"[3]"
   ]
  },
  {
   "cell_type": "code",
   "execution_count": 49,
   "metadata": {},
   "outputs": [
    {
     "data": {
      "text/plain": [
       "'ty'"
      ]
     },
     "execution_count": 49,
     "metadata": {},
     "output_type": "execute_result"
    }
   ],
   "source": [
    "\"aty\"[1:4]"
   ]
  },
  {
   "cell_type": "markdown",
   "metadata": {},
   "source": [
    "Negative indices are also. Give them a try. What do they do?"
   ]
  },
  {
   "cell_type": "code",
   "execution_count": 50,
   "metadata": {},
   "outputs": [
    {
     "data": {
      "text/plain": [
       "'y'"
      ]
     },
     "execution_count": 50,
     "metadata": {},
     "output_type": "execute_result"
    }
   ],
   "source": [
    "\"aty\"[-1]"
   ]
  },
  {
   "cell_type": "code",
   "execution_count": 51,
   "metadata": {},
   "outputs": [
    {
     "data": {
      "text/plain": [
       "'at'"
      ]
     },
     "execution_count": 51,
     "metadata": {},
     "output_type": "execute_result"
    }
   ],
   "source": [
    "\"aty\"[-3:-1]"
   ]
  },
  {
   "cell_type": "markdown",
   "metadata": {},
   "source": [
    "You can omit one of the indices in the slice. The slice ```\"morphology\"[2:]```  will contain all letters from the 3rd one to the end, and ```\"semantics\"[:4]\"``` has all letters up to and including the 4th. "
   ]
  },
  {
   "cell_type": "code",
   "execution_count": 52,
   "metadata": {},
   "outputs": [
    {
     "data": {
      "text/plain": [
       "'rphology'"
      ]
     },
     "execution_count": 52,
     "metadata": {},
     "output_type": "execute_result"
    }
   ],
   "source": [
    "\"morphology\"[2:]"
   ]
  },
  {
   "cell_type": "code",
   "execution_count": 53,
   "metadata": {},
   "outputs": [
    {
     "data": {
      "text/plain": [
       "'sema'"
      ]
     },
     "execution_count": 53,
     "metadata": {},
     "output_type": "execute_result"
    }
   ],
   "source": [
    "\"semantics\"[:4]"
   ]
  },
  {
   "cell_type": "markdown",
   "metadata": {},
   "source": [
    "**Your turn:** What other words can you form out of the letters in \"platypus\"? Find at least 3 words, and construct them in Python using indices to pick letters and using \"+\" to concatenate them. For example,\n",
    "if ```p = \"platypus\"``` then ```p[3] + [2] + [0]``` creates the word \"tap\"."
   ]
  },
  {
   "cell_type": "code",
   "execution_count": 54,
   "metadata": {},
   "outputs": [],
   "source": [
    "# type your code here."
   ]
  },
  {
   "cell_type": "markdown",
   "metadata": {},
   "source": [
    "Reversing the order: You can make the first index be bigger than the second, and then add a \"-1\" as a third number, like this:\n",
    "        \n",
    "        \"platypus\"[9:5:-1]\"\n",
    "        \n",
    "Then the sequence will be inverted. Here is an example:"
   ]
  },
  {
   "cell_type": "code",
   "execution_count": 55,
   "metadata": {},
   "outputs": [
    {
     "data": {
      "text/plain": [
       "'supy'"
      ]
     },
     "execution_count": 55,
     "metadata": {},
     "output_type": "execute_result"
    }
   ],
   "source": [
    "\"platypus\"[7:3:-1]"
   ]
  },
  {
   "cell_type": "markdown",
   "metadata": {},
   "source": [
    "Which is the same as:"
   ]
  },
  {
   "cell_type": "code",
   "execution_count": 56,
   "metadata": {},
   "outputs": [
    {
     "data": {
      "text/plain": [
       "'supy'"
      ]
     },
     "execution_count": 56,
     "metadata": {},
     "output_type": "execute_result"
    }
   ],
   "source": [
    "\"platypus\"[-1:-5:-1]"
   ]
  },
  {
   "cell_type": "markdown",
   "metadata": {},
   "source": [
    "If both indices are ommited and just put the \"-1\" as the third number, the whole string gets reversed:"
   ]
  },
  {
   "cell_type": "code",
   "execution_count": 57,
   "metadata": {},
   "outputs": [
    {
     "data": {
      "text/plain": [
       "'supytalp'"
      ]
     },
     "execution_count": 57,
     "metadata": {},
     "output_type": "execute_result"
    }
   ],
   "source": [
    "\"platypus\"[::-1]"
   ]
  },
  {
   "cell_type": "markdown",
   "metadata": {},
   "source": [
    "**Your turn:** Try inverting a palindrome sentence, like \"No lemon, no melon\". Here are some others: https://examples.yourdictionary.com/palindrome-examples.html\n",
    "\n",
    "Or just pick a long word and see if you can find good reverse words hidden in it, like \"sore\" in \"rhinoceros\"."
   ]
  },
  {
   "cell_type": "code",
   "execution_count": 58,
   "metadata": {},
   "outputs": [],
   "source": [
    "# type your code here."
   ]
  },
  {
   "cell_type": "markdown",
   "metadata": {},
   "source": [
    "## Boolean"
   ]
  },
  {
   "cell_type": "markdown",
   "metadata": {},
   "source": [
    "You can check if an expression or equation is True or False. These two values are known as 'booleans'. Usually this is found in expressions of (in)equality."
   ]
  },
  {
   "cell_type": "code",
   "execution_count": 59,
   "metadata": {},
   "outputs": [
    {
     "data": {
      "text/plain": [
       "True"
      ]
     },
     "execution_count": 59,
     "metadata": {},
     "output_type": "execute_result"
    }
   ],
   "source": [
    "3 < 5"
   ]
  },
  {
   "cell_type": "code",
   "execution_count": 60,
   "metadata": {},
   "outputs": [
    {
     "data": {
      "text/plain": [
       "True"
      ]
     },
     "execution_count": 60,
     "metadata": {},
     "output_type": "execute_result"
    }
   ],
   "source": [
    "3 <= 5"
   ]
  },
  {
   "cell_type": "code",
   "execution_count": 61,
   "metadata": {},
   "outputs": [
    {
     "data": {
      "text/plain": [
       "True"
      ]
     },
     "execution_count": 61,
     "metadata": {},
     "output_type": "execute_result"
    }
   ],
   "source": [
    "3 == 3"
   ]
  },
  {
   "cell_type": "code",
   "execution_count": 62,
   "metadata": {},
   "outputs": [
    {
     "data": {
      "text/plain": [
       "False"
      ]
     },
     "execution_count": 62,
     "metadata": {},
     "output_type": "execute_result"
    }
   ],
   "source": [
    "3 != 3"
   ]
  },
  {
   "cell_type": "markdown",
   "metadata": {},
   "source": [
    "Some string functions return either True or False. For example, \"in\" tests for substrings. "
   ]
  },
  {
   "cell_type": "code",
   "execution_count": 63,
   "metadata": {},
   "outputs": [
    {
     "data": {
      "text/plain": [
       "True"
      ]
     },
     "execution_count": 63,
     "metadata": {},
     "output_type": "execute_result"
    }
   ],
   "source": [
    "\"Miss\" in \"Mississippi\""
   ]
  },
  {
   "cell_type": "code",
   "execution_count": 64,
   "metadata": {},
   "outputs": [
    {
     "data": {
      "text/plain": [
       "False"
      ]
     },
     "execution_count": 64,
     "metadata": {},
     "output_type": "execute_result"
    }
   ],
   "source": [
    "\"miss\" in \"Mississippi\""
   ]
  },
  {
   "cell_type": "code",
   "execution_count": 65,
   "metadata": {},
   "outputs": [
    {
     "data": {
      "text/plain": [
       "True"
      ]
     },
     "execution_count": 65,
     "metadata": {},
     "output_type": "execute_result"
    }
   ],
   "source": [
    "\"linguist\".endswith(\"ist\")"
   ]
  },
  {
   "cell_type": "code",
   "execution_count": 66,
   "metadata": {},
   "outputs": [
    {
     "data": {
      "text/plain": [
       "False"
      ]
     },
     "execution_count": 66,
     "metadata": {},
     "output_type": "execute_result"
    }
   ],
   "source": [
    "\"linguist\".startswith(\"pro\")"
   ]
  },
  {
   "cell_type": "markdown",
   "metadata": {},
   "source": [
    "# Functions\n",
    "\n",
    "Some functions that we have seen so far include: len(), float(), int(), str(), type(). You can also make functions yourself, known in programming as defining a function. This is useful when you need to do the same thing many times. Let's say that for your job you frequently need to convert kilos to pounds. Here is how you would use Python (or any calculator) to carry out this conversion:"
   ]
  },
  {
   "cell_type": "code",
   "execution_count": 67,
   "metadata": {},
   "outputs": [
    {
     "name": "stdout",
     "output_type": "stream",
     "text": [
      "37.400000000000006\n"
     ]
    }
   ],
   "source": [
    "# I want to know how many pounds 17 kilos are:\n",
    "print( 17 * 2.2)"
   ]
  },
  {
   "cell_type": "code",
   "execution_count": 68,
   "metadata": {},
   "outputs": [
    {
     "name": "stdout",
     "output_type": "stream",
     "text": [
      "79.2\n"
     ]
    }
   ],
   "source": [
    "#I want to know how many pounds 36 kilos are:\n",
    "print( 36 * 2.2)"
   ]
  },
  {
   "cell_type": "markdown",
   "metadata": {},
   "source": [
    "Since I have to convert kilos to pounds frequently for my job, always doing this calculation gets annoying. Luckily, I'm a Python expert and I can define my own function in order to avoid having to repeat the same thing over and over:"
   ]
  },
  {
   "cell_type": "code",
   "execution_count": 69,
   "metadata": {},
   "outputs": [],
   "source": [
    "def kilos_to_pounds(weight):\n",
    "    pounds = weight * 2.2\n",
    "    return pounds"
   ]
  },
  {
   "cell_type": "code",
   "execution_count": 70,
   "metadata": {},
   "outputs": [],
   "source": [
    "# here is a variant without the variable \"pounds\"\n",
    "def kilos_to_pounds_2(weight):\n",
    "    return weight * 2.2"
   ]
  },
  {
   "cell_type": "markdown",
   "metadata": {},
   "source": [
    "Now, you can use ```kilos_to_pounds``` like other Python functions:"
   ]
  },
  {
   "cell_type": "code",
   "execution_count": 71,
   "metadata": {},
   "outputs": [
    {
     "data": {
      "text/plain": [
       "121.00000000000001"
      ]
     },
     "execution_count": 71,
     "metadata": {},
     "output_type": "execute_result"
    }
   ],
   "source": [
    "kilos_to_pounds(55)"
   ]
  },
  {
   "cell_type": "markdown",
   "metadata": {},
   "source": [
    "## Function definition: elements"
   ]
  },
  {
   "cell_type": "code",
   "execution_count": 72,
   "metadata": {},
   "outputs": [],
   "source": [
    "def kilos_to_pounds(weight):\n",
    "    pounds = weight * 2.2\n",
    "    return pounds"
   ]
  },
  {
   "cell_type": "markdown",
   "metadata": {},
   "source": [
    "* ```def``` is a reserved word. It tells Python that you are defining a function.\n",
    "\n",
    "* The name of the function is ```kilos_to_pounds```. This is a variable that you define, but now it is a container that contains Python code, not a number or a string. The names of functions follow the same restrictions as other Python variable names.\n",
    "\n",
    "* After the name of the function, you see the input to the function, also called its argument, in round brackets. This is a variable name-- it is the container that we have prepared to take the actual input when the function is called.\n",
    "\n",
    "* After the argument there is a colon ':'. \n",
    "* Then an indented set of code follows, which define what the function does."
   ]
  },
  {
   "cell_type": "code",
   "execution_count": 73,
   "metadata": {},
   "outputs": [
    {
     "name": "stdout",
     "output_type": "stream",
     "text": [
      "1\n",
      "2\n",
      "3\n"
     ]
    }
   ],
   "source": [
    "# compare to:\n",
    "for i in [\"1\", \"2\", \"3\"]:\n",
    "    print(i)\n",
    "    "
   ]
  },
  {
   "cell_type": "markdown",
   "metadata": {},
   "source": [
    "**Your turn:**\n",
    "\n",
    "* Define a function that converts pounds to kilos. \n",
    "\n",
    "* Define a function that takes a string as input, then strips all punctuation symbols from the beginning and end and lowercases. For example, when the input is \"Hello?\" the output should be \"hello\", and when the input is \"BYE!!!!\", the output should be \"bye\". "
   ]
  },
  {
   "cell_type": "code",
   "execution_count": 74,
   "metadata": {},
   "outputs": [],
   "source": [
    "# Your code here."
   ]
  },
  {
   "cell_type": "markdown",
   "metadata": {},
   "source": [
    "## Function output: lists\n",
    "\n",
    "The output, what you write after the keyword ```return```, can be a single value: a number, as in the Celsius-to-Fahrenheit example. The output of a function can also be a list. Here is a function that takes a string as input, tokenizes it, lowercases, and removes punctuation:"
   ]
  },
  {
   "cell_type": "code",
   "execution_count": 75,
   "metadata": {},
   "outputs": [
    {
     "data": {
      "text/plain": [
       "['i', 'love', 'python']"
      ]
     },
     "execution_count": 75,
     "metadata": {},
     "output_type": "execute_result"
    }
   ],
   "source": [
    "import nltk\n",
    "import string\n",
    "\n",
    "def my_preprocess(inputstring):\n",
    "    words = nltk.word_tokenize(inputstring)\n",
    "    newwords = [w.lower() for w in words if w.strip(string.punctuation) != \"\"]\n",
    "    return newwords\n",
    "\n",
    "my_preprocess(\"I love Python!!!\")"
   ]
  },
  {
   "cell_type": "markdown",
   "metadata": {},
   "source": [
    "**Your turn:**\n",
    "\n",
    "* Define a function that takes as input a string, splits it on whitespace, removes every word that starts with \"http\", and returns the remaining list of words. So if the input is ```\"Visit the following address https:\\\\olemiss.edu\"```, the output should be ```[\"Visit\", \"the\", \"following\", \"address\"]```\n",
    "\n",
    "* Define a function that takes as input a string of numbers separated by whitespace, for example ```\"123 3.4  56.7\"```. It should return a list with the numbers that were in the string, in our case ```[123, 3.4, 56.7]```."
   ]
  },
  {
   "cell_type": "markdown",
   "metadata": {},
   "source": [
    "## Functions with multiple arguments\n",
    "\n",
    "A function can have more than one variable as input. Here is an example. This function repeats a string a given number of times:"
   ]
  },
  {
   "cell_type": "code",
   "execution_count": 76,
   "metadata": {},
   "outputs": [
    {
     "data": {
      "text/plain": [
       "'hellohellohellohellohello'"
      ]
     },
     "execution_count": 76,
     "metadata": {},
     "output_type": "execute_result"
    }
   ],
   "source": [
    "def repeat_string(somestring, numtimes):\n",
    "    return somestring * numtimes\n",
    "\n",
    "repeat_string(\"hello\", 5)"
   ]
  }
 ],
 "metadata": {
  "kernelspec": {
   "display_name": "Python 3",
   "language": "python",
   "name": "python3"
  },
  "language_info": {
   "codemirror_mode": {
    "name": "ipython",
    "version": 3
   },
   "file_extension": ".py",
   "mimetype": "text/x-python",
   "name": "python",
   "nbconvert_exporter": "python",
   "pygments_lexer": "ipython3",
   "version": "3.7.6"
  },
  "toc": {
   "base_numbering": 1,
   "nav_menu": {},
   "number_sections": true,
   "sideBar": true,
   "skip_h1_title": false,
   "title_cell": "Table of Contents",
   "title_sidebar": "Contents",
   "toc_cell": false,
   "toc_position": {},
   "toc_section_display": true,
   "toc_window_display": false
  }
 },
 "nbformat": 4,
 "nbformat_minor": 2
}
